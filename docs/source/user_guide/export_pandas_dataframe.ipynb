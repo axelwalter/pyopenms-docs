{
 "cells": [
  {
   "cell_type": "markdown",
   "metadata": {},
   "source": [
    "# Export to pandas DataFrame\n",
    "\n",
    "**NOTE: This feature is available only if using a version of pyOpenMS\n",
    "\\>= 3.0, at the time of writing this means using the nightly builds as\n",
    "described in the** [Installation\n",
    "Instructions](installation.ipynb#nightly-ci-wheels).\n",
    "\n",
    "In pyOpenMS some data structures can be converted to a tabular format as\n",
    "a `pandas.DataFrame`. This allows convenient access to data and meta\n",
    "values of spectra, features and identifications.\n",
    "\n",
    "Required imports for the examples:"
   ],
   "id": "d490df3d-81bf-4b01-ab23-ad197e3607b8"
  },
  {
   "cell_type": "code",
   "execution_count": null,
   "metadata": {
    "linenos": ""
   },
   "outputs": [],
   "source": [
    "import pyopenms as oms\n",
    "import pandas as pd\n",
    "from urllib.request import urlretrieve\n",
    "\n",
    "url = \"https://raw.githubusercontent.com/OpenMS/pyopenms-docs/master/src/data/\""
   ],
   "id": "fd13e317-effd-410d-aed4-7b903fa23512"
  },
  {
   "cell_type": "markdown",
   "metadata": {},
   "source": [
    "## MSExperiment\n",
    "\n",
    "**pyopenms.MSExperiment.get_df(** *long=False* **)**  \n",
    "Generates a pandas DataFrame with all peaks in the MSExperiment\n",
    "\n",
    "**Parameters:**\n",
    "\n",
    "**long :** default False\n",
    "\n",
    "set to True if you want to have a long/expanded/melted dataframe with\n",
    "one row per peak. Faster but replicated RT information. If False,\n",
    "returns rows in the style: rt, np.array(mz), np.array(int)\n",
    "\n",
    "**Returns:**\n",
    "\n",
    "**pandas.DataFrame**\n",
    "\n",
    "peak map information stored in a DataFrame\n",
    "\n",
    "**Examples:**"
   ],
   "id": "11454ddd-59b4-4996-9963-5de60f23b7b2"
  },
  {
   "cell_type": "code",
   "execution_count": null,
   "metadata": {
    "linenos": ""
   },
   "outputs": [],
   "source": [
    "urlretrieve(url + \"BSA1.mzML\", \"BSA1.mzML\")\n",
    "exp = oms.MSExperiment()\n",
    "oms.MzMLFile().load(\"BSA1.mzML\", exp)\n",
    "\n",
    "df = exp.get_df()  # default: long = False\n",
    "df.head(2)"
   ],
   "id": "fe344b69-f32e-49c2-bee0-72982ac64e55"
  },
  {
   "cell_type": "markdown",
   "metadata": {},
   "source": [
    "|     | RT         | mzarray                                            | intarray                                           |\n",
    "|---|-------|-------------------------------|-------------------------------|\n",
    "| 0   | 1501.41394 | \\[300.0897645621494, 300.18132740129533, 300.20... | \\[3431.0261, 1181.809, 1516.1746, 1719.8547, 11... |\n",
    "| 1   | 1503.03125 | \\[300.06577092599525, 300.08932376441896, 300.2... | \\[914.79034, 1842.2311, 2395.1025, 851.4738, 16... |\n",
    "\n",
    "exp.get_df()"
   ],
   "id": "87107775-5d49-449b-bde9-2df36b2a02e1"
  },
  {
   "cell_type": "code",
   "execution_count": null,
   "metadata": {
    "linenos": ""
   },
   "outputs": [],
   "source": [
    "df = exp.get_df(long=True)\n",
    "df.head(2)"
   ],
   "id": "92a9612b-98ab-41e2-a72a-2cb9a1b23967"
  },
  {
   "cell_type": "markdown",
   "metadata": {},
   "source": [
    "|     | RT         | mz         | inty        |\n",
    "|-----|------------|------------|-------------|\n",
    "| 0   | 1501.41394 | 300.089752 | 3431.026123 |\n",
    "| 1   | 1501.41394 | 300.181335 | 1181.808960 |\n",
    "\n",
    "exp.get_df(long=True)\n",
    "\n",
    "## PeptideIdentification\n",
    "\n",
    "**pyopenms.peptide_identifications_to_df( peps**, *decode_ontology=True*, *default_missing_values={bool: False, int: -9999, float: np.nan, str: ''}*, *export_unidentified=True* **)**  \n",
    "Generates a pandas DataFrame with all peaks in the MSExperiment\n",
    "\n",
    "**Parameters:**\n",
    "\n",
    "**peps :**\n",
    "\n",
    "list of PeptideIdentification objects\n",
    "\n",
    "**decode_ontology :** default True\n",
    "\n",
    "if meta values contain CV identifer (e.g., from PSI-MS) they will be\n",
    "automatically decoded into the human readable CV term name.\n",
    "\n",
    "**default_missing_values :** default {bool: False, int: -9999, float:\n",
    "np.nan, str: ''}\n",
    "\n",
    "default value for missing values for each data type\n",
    "\n",
    "**export_unidentified :** default True\n",
    "\n",
    "export PeptideIdentifications without PeptideHit\n",
    "\n",
    "**Returns:**\n",
    "\n",
    "**pandas.DataFrame**\n",
    "\n",
    "peptide identifications in a DataFrame\n",
    "\n",
    "**Example:**"
   ],
   "id": "a47ecef5-d60d-4881-84e3-5e9f0f46e6d0"
  },
  {
   "cell_type": "code",
   "execution_count": null,
   "metadata": {
    "linenos": ""
   },
   "outputs": [],
   "source": [
    "urlretrieve(url + \"small.idXML\", \"small.idXML\")\n",
    "prot_ids = []\n",
    "pep_ids = []\n",
    "oms.IdXMLFile().load(\"small.idXML\", prot_ids, pep_ids)\n",
    "\n",
    "df = oms.peptide_identifications_to_df(pep_ids)\n",
    "df.head(2)"
   ],
   "id": "622dc4d3-1c7f-4ce9-805c-09fa17c69ce5"
  },
  {
   "cell_type": "markdown",
   "metadata": {},
   "source": [
    "|     | id                                               | RT         | mz         | q-value  | charge | protein_accession             | start | end | NuXL:z2 mass | NuXL:z3 mass | ... | isotope_error | NuXL:peptide_mass_z0 | NuXL:XL_U | NuXL:sequence_score |\n",
    "|--|-----|---|-----|-----|---|-----|-----|-----|-----|-----|-----|-----|-----|-----|-----|\n",
    "| 0   | OpenNuXL_2019-12-04T16:39:43_1021782429466859437 | 900.425415 | 414.730865 | 0.368649 | 4      | DECOY_sp\\|Q86UQ0\\|ZN589_HUMAN | 255   | 267 | 828.458069   | 552.641113   | ... | 0             | 1654.901611          | 0         | 0.173912            |\n",
    "| 1   | OpenNuXL_2019-12-04T16:39:43_7293634134684008928 | 903.565186 | 506.259521 | 0.422779 | 2      | sp\\|P61313\\|RL15_HUMAN        | 179   | 187 | 0.0          | 0.0          | ... | 0             | 1010.504639          | 0         | 0.290786            |\n",
    "\n",
    "peptide_identifications_to_df(pep_ids)\n",
    "\n",
    "## FeatureMap\n",
    "\n",
    "**pyopenms.FeatureMap.get_df(** *meta_values = None* **)**  \n",
    "Generates a pandas DataFrame with information contained in the\n",
    "FeatureMap.\n",
    "\n",
    "Optionally the feature meta values and information for the assigned\n",
    "PeptideHit can be exported.\n",
    "\n",
    "**Parameters:**\n",
    "\n",
    "**meta_values :** default None\n",
    "\n",
    "meta values to include (None, \\[custom list of meta value names\\] or\n",
    "'all')\n",
    "\n",
    "**export_peptide_identifications (bool):** default True\n",
    "\n",
    "Export sequence and score for best PeptideHit assigned to a feature.\n",
    "Additionally the ID_filename (file name of the corresponding\n",
    "ProteinIdentification) and the ID_native_id (spectrum ID of the\n",
    "corresponding Feature) are exported. They are also annotated as meta\n",
    "values when collecting all assigned PeptideIdentifications from a\n",
    "FeatureMap with FeatureMap.get_assigned_peptide_identifications(). A\n",
    "DataFrame from the assigned peptides generated with\n",
    "peptide_identifications_to_df(assigned_peptides) can be merged with the\n",
    "FeatureMap DataFrame with: merged_df = pd.merge(feature_df,\n",
    "assigned_peptide_df, on=\\['feature_id', 'ID_native_id', 'ID_filename'\\])\n",
    "\n",
    "**Returns:**\n",
    "\n",
    "**pandas.DataFrame**\n",
    "\n",
    "feature information stored in a DataFrame\n",
    "\n",
    "**Examples:**"
   ],
   "id": "3bb6a29b-1425-4719-bd8b-ab304075c080"
  },
  {
   "cell_type": "code",
   "execution_count": null,
   "metadata": {
    "linenos": ""
   },
   "outputs": [],
   "source": [
    "urlretrieve(url + \"BSA1_F1_idmapped.featureXML\", \"BSA1_F1_idmapped.featureXML\")\n",
    "feature_map = oms.FeatureMap()\n",
    "oms.FeatureXMLFile().load(\"BSA1_F1_idmapped.featureXML\", feature_map)\n",
    "\n",
    "df = feature_map.get_df()  # default: meta_values = None\n",
    "df.head(2)"
   ],
   "id": "81e4436b-63f3-441c-8663-049ca183b389"
  },
  {
   "cell_type": "markdown",
   "metadata": {},
   "source": [
    "| id                   | peptide_sequence | peptide_score | ID_filename | ID_native_id  | charge | RT          | mz         | RTstart     | RTend       | mzstart    | mzend      | quality  | intensity    |\n",
    "|------|------|------|------|------|---|------|------|------|------|------|------|------|------|\n",
    "| 9650885788371886430  | LVTDLTK          | 0.000000      | unknown     | spectrum=1270 | 2      | 1942.600083 | 395.239277 | 1932.484009 | 1950.834351 | 395.239199 | 397.245758 | 0.808494 | 157572000\\.0 |\n",
    "| 18416216708636999474 | DDSPDLPK         | 0.034483      | unknown     | spectrum=1167 | 2      | 1749.138335 | 443.711224 | 1735.693115 | 1763.343506 | 443.711122 | 445.717531 | 0.893553 | 54069300.0   |\n",
    "\n",
    "feature_map.get_df()"
   ],
   "id": "93909ac4-018c-4327-affe-359d417b53bd"
  },
  {
   "cell_type": "code",
   "execution_count": null,
   "metadata": {
    "linenos": ""
   },
   "outputs": [],
   "source": [
    "df = feature_map.get_df(meta_values=\"all\", export_peptide_identifications=False)\n",
    "df.head(2)"
   ],
   "id": "fb278a1e-ca9b-4918-9fa3-94bddf3a4472"
  },
  {
   "cell_type": "markdown",
   "metadata": {},
   "source": [
    "| id                   | charge | RT          | mz         | RTstart     | RTend       | mzstart    | mzend      | quality  | intensity    | FWHM      | spectrum_index | spectrum_native_id | label | score_correlation | score_fit |\n",
    "|-----|--|-----|-----|-----|-----|-----|-----|-----|-----|-----|-----|-----|-----|-----|-----|\n",
    "| 9650885788371886430  | 2      | 1942.600083 | 395.239277 | 1932.484009 | 1950.834351 | 395.239199 | 397.245758 | 0.808494 | 157572000\\.0 | 10.061090 | 259            | spectrum=1270      | 168   | 0.989969          | 0.660286  |\n",
    "| 18416216708636999474 | 2      | 1749.138335 | 443.711224 | 1735.693115 | 1763.343506 | 443.71112  | 445.717531 | 0.893553 | 54069300.0   | 14.156094 | 156            | spectrum=1167      | 169   | 0.999002          | 0.799234  |\n",
    "\n",
    "feature_map.get_df(meta_values = 'all', export_peptide_identifications =\n",
    "False)"
   ],
   "id": "d173b861-6552-46c9-befb-0e14a36e6cc9"
  },
  {
   "cell_type": "code",
   "execution_count": null,
   "metadata": {
    "linenos": ""
   },
   "outputs": [],
   "source": [
    "df = feature_map.get_df(meta_values=[b\"FWHM\", b\"label\"])\n",
    "df.head(2)"
   ],
   "id": "53241674-95e6-4c27-ac44-49319ed65542"
  },
  {
   "cell_type": "markdown",
   "metadata": {},
   "source": [
    "| id                   | charge | RT          | mz         | RTstart     | RTend       | mzstart    | mzend      | quality  | intensity    | FWHM      | label |\n",
    "|-------|---|-------|-------|-------|-------|-------|-------|-------|-------|-------|-------|\n",
    "| 9650885788371886430  | 2      | 1942.600083 | 395.239277 | 1932.484009 | 1950.834351 | 395.239199 | 397.245758 | 0.808494 | 157572000\\.0 | 10.061090 | 168   |\n",
    "| 18416216708636999474 | 2      | 1749.138335 | 443.711224 | 1735.693115 | 1763.343506 | 443.71112  | 445.717531 | 0.893553 | 54069300.0   | 14.156094 | 169   |\n",
    "\n",
    "feature_map.get_df(meta_values = \\[b'FWHM', b'label'\\])\n",
    "\n",
    "**Extract assigned peptide identifications from a feature map**\n",
    "\n",
    "Peptide identifications can be mapped to their corresponding features in\n",
    "a `FeatureMap`. It is possible to extract them using the function\n",
    "`pyopenms.FeatureMap.get_assigned_peptide_identifications()` returning a\n",
    "list of `PeptideIdentification` objects.\n",
    "\n",
    "**pyopenms.FeatureMap.get_assigned_peptide_identifications()**  \n",
    "Generates a list with peptide identifications assigned to a feature.\n",
    "\n",
    "Adds 'ID_native_id' (feature spectrum id), 'ID_filename' (primary MS run\n",
    "path of corresponding ProteinIdentification) and 'feature_id' (unique ID\n",
    "of corresponding Feature) as meta values to the peptide hits. A\n",
    "DataFrame from the assigned peptides generated with\n",
    "peptide_identifications_to_df(assigned_peptides) can be merged with the\n",
    "FeatureMap DataFrame with: merged_df = pd.merge(feature_df,\n",
    "assigned_peptide_df, on=\\['feature_id', 'ID_native_id', 'ID_filename'\\])\n",
    "\n",
    "**Returns:**\n",
    "\n",
    "**\\[PeptideIdentification\\]**\n",
    "\n",
    "list of PeptideIdentification objects\n",
    "\n",
    "A `DataFrame` can be created on the resulting list of\n",
    "<span class=\"title-ref\">PeptideIdentification</span> objects using\n",
    "`pyopenms.peptide_identifications_to_df(assigned_peptides)`.\n",
    "[Feature map](https://pyopenms.readthedocs.io/en/latest/user_guide/glossary.html#term-feature-map)\n",
    "and peptide data frames contain columns, on which they can be merged\n",
    "together to contain the complete information for peptides and features\n",
    "in a single data frame.\n",
    "\n",
    "The columns for unambiguously merging the data frames:\n",
    "\n",
    "-   `feature_id`: the unique feature identifier\n",
    "-   `ID_native_id`: the feature spectrum native identifier\n",
    "-   `ID_filename`: the filename (primary MS run path) of the\n",
    "    corresponding <span class=\"title-ref\">ProteinIdentification</span>\n",
    "\n",
    "**Example:**"
   ],
   "id": "5a7aa67c-7b44-40d0-8ab7-c3c2140c99a8"
  },
  {
   "cell_type": "code",
   "execution_count": null,
   "metadata": {
    "linenos": ""
   },
   "outputs": [],
   "source": [
    "feature_df = feature_map.get_df()\n",
    "assigned_peptides = feature_map.get_assigned_peptide_identifications()\n",
    "assigned_peptide_df = oms.peptide_identifications_to_df(assigned_peptides)\n",
    "\n",
    "merged_df = pd.merge(\n",
    "    feature_df,\n",
    "    assigned_peptide_df,\n",
    "    on=[\"feature_id\", \"ID_native_id\", \"ID_filename\"],\n",
    ")\n",
    "merged_df.head(2)"
   ],
   "id": "30279c1b-69ae-4132-ab42-1f23b706fa23"
  },
  {
   "cell_type": "markdown",
   "metadata": {},
   "source": [
    "| feature_id           | peptide_sequence | peptide_score | ID_filename | ID_native_id  | charge_x | RT_x        | mz_x       | RTstart     | RTend       | ... | id                                            | RT_y        | mz_y       | q-value  | charge_y | protein_accession  | start | end | OMSSA_score | target_decoy |\n",
    "|----|----|----|----|----|----|----|----|----|----|----|----|----|----|----|----|----|----|----|----|----|\n",
    "| 9650885788371886430  | LVTDLTK          | 0.000000      | unknown     | spectrum=1270 | 2        | 1942.600083 | 395.239277 | 1932.484009 | 1950.834351 | ... | OMSSA_2009-11-17T11:11:11_4731105163044641872 | 1933.405151 | 395.239349 | 0.000000 | 2        | P02769\\|ALBU_BOVIN | -1    | -1  | 0.001084    | True         |\n",
    "| 18416216708636999474 | DDSPDLPK         | 0.034483      | unknown     | spectrum=1167 | 2        | 1749.138335 | 443.711224 | 1735.693115 | 1763.343506 | ... | OMSSA_2009-11-17T11:11:11_4731105163044641872 | 1738.033447 | 443.711243 | 0.034483 | 2        | P02769\\|ALBU_BOVIN | -1    | -1  | 0.003951    | True         |\n",
    "\n",
    "consensus_map.get_df()\n",
    "\n",
    "## ConsensusMap\n",
    "\n",
    "**pyopenms.ConsensusMap.get_df()**  \n",
    "Generates a pandas DataFrame with both consensus feature meta data and\n",
    "intensities from each sample.\n",
    "\n",
    "**Returns:**\n",
    "\n",
    "**pandas.DataFrame**\n",
    "\n",
    "[consensus map](https://pyopenms.readthedocs.io/en/latest/user_guide/glossary.html#term-consensus-map)\n",
    "meta data and intensity stored in pandas DataFrame\n",
    "\n",
    "**pyopenms.ConsensusMap.get_intensity_df()**  \n",
    "Generates a pandas DataFrame with feature intensities from each sample\n",
    "in long format (over files).\n",
    "\n",
    "For labelled analyses channel intensities will be in one row, therefore\n",
    "resulting in a semi-long/block format. Resulting DataFrame can be joined\n",
    "with result from get_metadata_df by their index 'id'.\n",
    "\n",
    "**Returns:**\n",
    "\n",
    "**pandas.DataFrame**\n",
    "\n",
    "intensity DataFrame\n",
    "\n",
    "**pyopenms.ConsensusMap.get_metadata_df()**  \n",
    "Generates a pandas DataFrame with feature meta data (sequence, charge,\n",
    "mz, RT, quality).\n",
    "\n",
    "Resulting DataFrame can be joined with result from get_intensity_df by\n",
    "their index 'id'.\n",
    "\n",
    "**Returns:**\n",
    "\n",
    "**pandas.DataFrame**\n",
    "\n",
    "DataFrame with metadata for each feature (such as: best identified\n",
    "sequence, charge, centroid RT/mz, fitting quality)\n",
    "\n",
    "**Examples:**"
   ],
   "id": "c34c7efe-497d-4906-b228-767f18e5b049"
  },
  {
   "cell_type": "code",
   "execution_count": null,
   "metadata": {
    "linenos": ""
   },
   "outputs": [],
   "source": [
    "urlretrieve(\n",
    "    url + \"ProteomicsLFQ_1_out.consensusXML\", \"ProteomicsLFQ_1_out.consensusXML\"\n",
    ")\n",
    "consensus_map = oms.ConsensusMap()\n",
    "oms.ConsensusXMLFile().load(\"ProteomicsLFQ_1_out.consensusXML\", consensus_map)\n",
    "\n",
    "df = consensus_map.get_df()\n",
    "df.head(2)"
   ],
   "id": "a0be9bfe-6daf-45ce-882b-cfdccce2cb91"
  },
  {
   "cell_type": "markdown",
   "metadata": {},
   "source": [
    "| id                   | sequence                   | charge | RT          | mz         | quality  | BSA1_F1.mzML | ... | BSA1_F2.mzML |\n",
    "|--|-----|---------|---------|---------|---------|-------------|-----|-------------|\n",
    "| 2935923263525422257  | DGDIEAEISR                 | 3      | 1523.370634 | 368.843773 | 0.000000 | 0.0          | ... | 0.0          |\n",
    "| 10409195546240342212 | SHC(Carbamidomethyl)IAEVEK | 3      | 1552.032973 | 358.174576 | 0.491247 | 1358151.0    | ... | 0.0          |\n",
    "\n",
    "consensus_map.get_df()"
   ],
   "id": "e8bb3aa1-2ca4-423c-ae8f-edd14ef34978"
  },
  {
   "cell_type": "code",
   "execution_count": null,
   "metadata": {
    "linenos": ""
   },
   "outputs": [],
   "source": [
    "df = consensus_map.get_intensity_df()\n",
    "df.head(2)"
   ],
   "id": "ca38f713-8c76-4f62-b9c6-4df3c88118e4"
  },
  {
   "cell_type": "markdown",
   "metadata": {},
   "source": [
    "| id                   | BSA1_F1.mzML | ... | BSA1_F2.mzML |\n",
    "|----------------------|--------------|-----|--------------|\n",
    "| 2935923263525422257  | 0.0          | ... | 0.0          |\n",
    "| 10409195546240342212 | 1358151.0    | ... | 0.0          |\n",
    "\n",
    "consensus_map.get_intensity_df()"
   ],
   "id": "a4b51a3b-bf44-4c43-9e33-a255a69f64fa"
  },
  {
   "cell_type": "code",
   "execution_count": null,
   "metadata": {
    "linenos": ""
   },
   "outputs": [],
   "source": [
    "df = consensus_map.get_metadata_df()\n",
    "df.head(2)"
   ],
   "id": "9fa64364-f54a-4d98-97db-5823fc5b7418"
  },
  {
   "cell_type": "markdown",
   "metadata": {},
   "source": [
    "| id                   | sequence                   | charge | RT          | mz         | quality  |\n",
    "|------------|------------|------------|------------|------------|------------|\n",
    "| 2935923263525422257  | DGDIEAEISR                 | 3      | 1523.370634 | 368.843773 | 0.000000 |\n",
    "| 10409195546240342212 | SHC(Carbamidomethyl)IAEVEK | 3      | 1552.032973 | 358.174576 | 0.491247 |\n",
    "\n",
    "consensus_map.get_metadata_df()"
   ],
   "id": "8e1cff28-d7e2-47a7-95f2-c33952b26c9d"
  }
 ],
 "nbformat": 4,
 "nbformat_minor": 5,
 "metadata": {}
}
