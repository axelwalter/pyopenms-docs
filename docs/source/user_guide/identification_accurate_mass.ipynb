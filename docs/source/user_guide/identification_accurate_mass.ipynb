{
 "cells": [
  {
   "cell_type": "markdown",
   "metadata": {},
   "source": [
    "# Identification by Accurate Mass\n",
    "\n",
    "Example workflow for the processing of a set of\n",
    "[mzML](https://pyopenms.readthedocs.io/en/latest/user_guide/glossary.html#term-mzML)\n",
    "files (defined in the `files` variable) including centroiding, features\n",
    "detection, :term:feature: linking and accurate mass search. The\n",
    "resulting data gets processed in a pandas data frame with features\n",
    "filtering (missing values, quality) and imputation of remaining missing\n",
    "values. Compounds detected during accurate mass search will be annotated\n",
    "in the resulting dataframe.\n",
    "\n",
    "## Imports and [mzML](https://pyopenms.readthedocs.io/en/latest/user_guide/glossary.html#term-mzML) file path"
   ],
   "id": "4dd1102c-d5eb-43ad-b326-4e946056584d"
  },
  {
   "cell_type": "code",
   "execution_count": null,
   "metadata": {
    "linenos": ""
   },
   "outputs": [],
   "source": [
    "import os\n",
    "import shutil\n",
    "import requests\n",
    "import pandas as pd\n",
    "import pyopenms as oms\n",
    "import numpy as np\n",
    "from sklearn.impute import KNNImputer\n",
    "from sklearn.preprocessing import FunctionTransformer\n",
    "from sklearn.pipeline import Pipeline\n",
    "import plotly.graph_objects as go\n",
    "import plotly.express as px\n",
    "import matplotlib.pyplot as plt\n",
    "\n",
    "# set path to your mzML files, or leave like this to use the example data\n",
    "files = os.path.join(os.getcwd(), \"IdByMz_Example\")"
   ],
   "id": "c5cf07cc-7556-4b5e-ab07-349216042e73"
  },
  {
   "cell_type": "markdown",
   "metadata": {},
   "source": [
    "## Download Example Data\n",
    "\n",
    "Execute this cell only for the example workflow."
   ],
   "id": "d71d4c09-b2aa-49cf-98f3-5bfa8458138c"
  },
  {
   "cell_type": "code",
   "execution_count": null,
   "metadata": {
    "linenos": ""
   },
   "outputs": [],
   "source": [
    "if not os.path.isdir(os.path.join(os.getcwd(), \"IdByMz_Example\")):\n",
    "    os.mkdir(os.path.join(os.getcwd(), \"IdByMz_Example\"))\n",
    "\n",
    "base = \"https://abibuilder.cs.uni-tuebingen.de/archive/openms/Tutorials/Example_Data/Metabolomics/\"\n",
    "urls = [\n",
    "    \"datasets/2012_02_03_PStd_050_1.mzML\",\n",
    "    \"datasets/2012_02_03_PStd_050_2.mzML\",\n",
    "    \"datasets/2012_02_03_PStd_050_3.mzML\",\n",
    "    \"databases/PositiveAdducts.tsv\",\n",
    "    \"databases/NegativeAdducts.tsv\",\n",
    "    \"databases/HMDBMappingFile.tsv\",\n",
    "    \"databases/HMDB2StructMapping.tsv\",\n",
    "]\n",
    "\n",
    "for url in urls:\n",
    "    request = requests.get(base + url, allow_redirects=True)\n",
    "    open(os.path.join(files, os.path.basename(url)), \"wb\").write(\n",
    "        request.content\n",
    "    )"
   ],
   "id": "c369eb84-7231-4cd1-b1b9-b8507a33b34e"
  },
  {
   "cell_type": "markdown",
   "metadata": {},
   "source": [
    "## Centroiding\n",
    "\n",
    "If files are already centroided this step can bet omitted.\n",
    "\n",
    "`in`: path to MS data (files)\n",
    "\n",
    "`out`: path to centroided\n",
    "[mzML](https://pyopenms.readthedocs.io/en/latest/user_guide/glossary.html#term-mzML)\n",
    "files in a subfolder 'centroid' (files)"
   ],
   "id": "5b47adbf-a31a-42a4-b2dd-6d9dd867088c"
  },
  {
   "cell_type": "code",
   "execution_count": null,
   "metadata": {
    "linenos": ""
   },
   "outputs": [],
   "source": [
    "if os.path.exists(os.path.join(files, \"centroid\")):\n",
    "    shutil.rmtree(os.path.join(files, \"centroid\"))\n",
    "os.mkdir(os.path.join(files, \"centroid\"))\n",
    "\n",
    "for file in os.listdir(files):\n",
    "    if file.endswith(\".mzML\"):\n",
    "        exp_raw = oms.MSExperiment()\n",
    "        oms.MzMLFile().load(os.path.join(files, file), exp_raw)\n",
    "        exp_centroid = oms.MSExperiment()\n",
    "\n",
    "        oms.PeakPickerHiRes().pickExperiment(exp_raw, exp_centroid, True)\n",
    "\n",
    "        oms.MzMLFile().store(os.path.join(files, \"centroid\", file), exp_centroid)\n",
    "        del exp_raw\n",
    "\n",
    "files = os.path.join(files, \"centroid\")"
   ],
   "id": "a9b641a2-e022-46b9-98ad-565fa2f9c441"
  },
  {
   "cell_type": "markdown",
   "metadata": {},
   "source": [
    "## Feature Detection\n",
    "\n",
    "`in`: path to centroid\n",
    "[mzML](https://pyopenms.readthedocs.io/en/latest/user_guide/glossary.html#term-mzML)\n",
    "files (files)\n",
    "\n",
    "`out`: list of\n",
    "[FeatureMap](https://pyopenms.readthedocs.io/en/latest/apidocs/_autosummary/pyopenms/pyopenms.FeatureMap.html)\n",
    "(feature_maps)"
   ],
   "id": "3179f21b-265c-41ca-ae9e-5ba836365bb4"
  },
  {
   "cell_type": "code",
   "execution_count": null,
   "metadata": {
    "linenos": ""
   },
   "outputs": [],
   "source": [
    "feature_maps = []\n",
    "\n",
    "for file in os.listdir(files):\n",
    "    if file.endswith(\".mzML\"):\n",
    "        exp = oms.MSExperiment()\n",
    "        oms.MzMLFile().load(os.path.join(files, file), exp)\n",
    "\n",
    "        exp.sortSpectra(True)\n",
    "\n",
    "        mass_traces = []\n",
    "        mtd = oms.MassTraceDetection()\n",
    "        mtd_params = mtd.getDefaults()\n",
    "        mtd_params.setValue(\n",
    "            \"mass_error_ppm\", 5.0\n",
    "        )  # set according to your instrument mass error\n",
    "        mtd_params.setValue(\n",
    "            \"noise_threshold_int\", 1000.0\n",
    "        )  # adjust to noise level in your data\n",
    "        mtd.setParameters(mtd_params)\n",
    "        mtd.run(exp, mass_traces, 0)\n",
    "\n",
    "        mass_traces_split = []\n",
    "        mass_traces_final = []\n",
    "        epd = oms.ElutionPeakDetection()\n",
    "        epd_params = epd.getDefaults()\n",
    "        epd_params.setValue(\"width_filtering\", \"fixed\")\n",
    "        epd.setParameters(epd_params)\n",
    "        epd.detectPeaks(mass_traces, mass_traces_split)\n",
    "\n",
    "        if epd.getParameters().getValue(\"width_filtering\") == \"auto\":\n",
    "            epd.filterByPeakWidth(mass_traces_split, mass_traces_final)\n",
    "        else:\n",
    "            mass_traces_final = mass_traces_split\n",
    "\n",
    "        feature_map = oms.FeatureMap()\n",
    "        feat_chrom = []\n",
    "        ffm = oms.FeatureFindingMetabo()\n",
    "        ffm_params = ffm.getDefaults()\n",
    "        ffm_params.setValue(\"isotope_filtering_model\", \"none\")\n",
    "        ffm_params.setValue(\n",
    "            \"remove_single_traces\", \"true\"\n",
    "        )  # set false to keep features with only one mass trace\n",
    "        ffm_params.setValue(\"mz_scoring_by_elements\", \"false\")\n",
    "        ffm_params.setValue(\"report_convex_hulls\", \"true\")\n",
    "        ffm.setParameters(ffm_params)\n",
    "        ffm.run(mass_traces_final, feature_map, feat_chrom)\n",
    "\n",
    "        feature_map.setUniqueIds()\n",
    "        feature_map.setPrimaryMSRunPath([file[:-5].encode()])\n",
    "\n",
    "        feature_maps.append(feature_map)"
   ],
   "id": "67a86958-7859-42f7-b3f3-7e993dbf27d0"
  },
  {
   "cell_type": "markdown",
   "metadata": {},
   "source": [
    "## Feature Map Retention Time Alignment\n",
    "\n",
    "`in`: unaligned list of\n",
    "[FeatureMap](https://pyopenms.readthedocs.io/en/latest/apidocs/_autosummary/pyopenms/pyopenms.FeatureMap.html)\n",
    "(feature_maps)\n",
    "\n",
    "`out`: list of\n",
    "[FeatureMap](https://pyopenms.readthedocs.io/en/latest/apidocs/_autosummary/pyopenms/pyopenms.FeatureMap.html)\n",
    "aligned to the first\n",
    "[feature map](https://pyopenms.readthedocs.io/en/latest/user_guide/glossary.html#term-feature-map)\n",
    "in the list (feature_maps)"
   ],
   "id": "71948843-941a-4bf4-81f4-80802d801f02"
  },
  {
   "cell_type": "code",
   "execution_count": null,
   "metadata": {
    "linenos": ""
   },
   "outputs": [],
   "source": [
    "# get in index of feature map with highest number of features in feature map list\n",
    "ref_index = [\n",
    "    i[0]\n",
    "    for i in sorted(\n",
    "        enumerate([fm.size() for fm in feature_maps]), key=lambda x: x[1]\n",
    "    )\n",
    "][-1]\n",
    "\n",
    "aligner = oms.MapAlignmentAlgorithmPoseClustering()\n",
    "\n",
    "aligner.setReference(feature_maps[ref_index])\n",
    "\n",
    "for feature_map in feature_maps[:ref_index] + feature_maps[ref_index + 1 :]:\n",
    "    trafo = oms.TransformationDescription()\n",
    "    aligner.align(feature_map, trafo)\n",
    "    transformer = oms.MapAlignmentTransformer()\n",
    "    transformer.transformRetentionTimes(\n",
    "        feature_map, trafo, True\n",
    "    )  # store original RT as meta value"
   ],
   "id": "4d39dd8b-bb2c-4bd8-b43f-b5853210e1ea"
  },
  {
   "cell_type": "markdown",
   "metadata": {},
   "source": [
    "## Visualization of RTs before and after Alignment"
   ],
   "id": "ce581df1-9a45-4d9b-862e-ed038461c2e9"
  },
  {
   "cell_type": "code",
   "execution_count": null,
   "metadata": {
    "linenos": ""
   },
   "outputs": [],
   "source": [
    "fmaps = (\n",
    "    [feature_maps[ref_index]]\n",
    "    + feature_maps[:ref_index]\n",
    "    + feature_maps[ref_index + 1 :]\n",
    ")\n",
    "\n",
    "fig = plt.figure(figsize=(10, 5))\n",
    "\n",
    "ax = fig.add_subplot(1, 2, 1)\n",
    "ax.set_title(\"consensus map before alignment\")\n",
    "ax.set_ylabel(\"m/z\")\n",
    "ax.set_xlabel(\"RT\")\n",
    "\n",
    "# use alpha value to display feature intensity\n",
    "ax.scatter(\n",
    "    [f.getRT() for f in fmaps[0]],\n",
    "    [f.getMZ() for f in fmaps[0]],\n",
    "    alpha=np.asarray([f.getIntensity() for f in fmaps[0]])\n",
    "    / max([f.getIntensity() for f in fmaps[0]]),\n",
    ")\n",
    "\n",
    "for fm in fmaps[1:]:\n",
    "    ax.scatter(\n",
    "        [f.getMetaValue(\"original_RT\") for f in fm],\n",
    "        [f.getMZ() for f in fm],\n",
    "        alpha=np.asarray([f.getIntensity() for f in fm])\n",
    "        / max([f.getIntensity() for f in fm]),\n",
    "    )\n",
    "\n",
    "ax = fig.add_subplot(1, 2, 2)\n",
    "ax.set_title(\"consensus map after alignment\")\n",
    "ax.set_xlabel(\"RT\")\n",
    "\n",
    "for fm in fmaps:\n",
    "    ax.scatter(\n",
    "        [f.getRT() for f in fm],\n",
    "        [f.getMZ() for f in fm],\n",
    "        alpha=np.asarray([f.getIntensity() for f in fm])\n",
    "        / max([f.getIntensity() for f in fm]),\n",
    "    )\n",
    "\n",
    "fig.tight_layout()\n",
    "fig.legend(\n",
    "    [fmap.getMetaValue(\"spectra_data\")[0].decode() for fmap in fmaps],\n",
    "    loc=\"lower center\",\n",
    ")\n",
    "# in some cases get file name elsewhere, e.g. fmap.getDataProcessing()[0].getMetaValue('parameter: out')\n",
    "fig.show()"
   ],
   "id": "024ddd89-f39a-403d-8917-7b815fc7df89"
  },
  {
   "cell_type": "markdown",
   "metadata": {},
   "source": [
    "## Feature Linking\n",
    "\n",
    "`in`: list\n",
    "of[FeatureMap](https://pyopenms.readthedocs.io/en/latest/apidocs/_autosummary/pyopenms/pyopenms.FeatureMap.html)\n",
    "(feature_maps)\n",
    "\n",
    "`out`:\n",
    "[ConsensusMap](https://pyopenms.readthedocs.io/en/latest/apidocs/_autosummary/pyopenms/pyopenms.ConsensusMap.html)\n",
    "(consensus_map)"
   ],
   "id": "ab62c906-a479-420a-921e-a0abd608d56b"
  },
  {
   "cell_type": "code",
   "execution_count": null,
   "metadata": {
    "linenos": ""
   },
   "outputs": [],
   "source": [
    "feature_grouper = oms.FeatureGroupingAlgorithmQT()\n",
    "\n",
    "consensus_map = oms.ConsensusMap()\n",
    "file_descriptions = consensus_map.getColumnHeaders()\n",
    "\n",
    "for i, feature_map in enumerate(feature_maps):\n",
    "    file_description = file_descriptions.get(i, oms.ColumnHeader())\n",
    "    file_description.filename = feature_map.getMetaValue(\"spectra_data\")[\n",
    "        0\n",
    "    ].decode()\n",
    "    file_description.size = feature_map.size()\n",
    "    file_description.unique_id = feature_map.getUniqueId()\n",
    "    file_descriptions[i] = file_description\n",
    "\n",
    "consensus_map.setColumnHeaders(file_descriptions)\n",
    "feature_grouper.group(feature_maps, consensus_map)"
   ],
   "id": "b62529bb-8c38-41e1-a742-145f6cce0bc9"
  },
  {
   "cell_type": "markdown",
   "metadata": {},
   "source": [
    "## ConsensusMap to Pandas DataFrame\n",
    "\n",
    "`in`:\n",
    "[ConsensusMap](https://pyopenms.readthedocs.io/en/latest/apidocs/_autosummary/pyopenms/pyopenms.ConsensusMap.html)\n",
    "(consensus_map)\n",
    "\n",
    "`out`: DataFrame with RT, mz and quality from\n",
    "[ConsensusMap](https://pyopenms.readthedocs.io/en/latest/apidocs/_autosummary/pyopenms/pyopenms.ConsensusMap.html)\n",
    "(cm_df)"
   ],
   "id": "4e098ca2-d006-4263-ae90-9fa999b4e82e"
  },
  {
   "cell_type": "code",
   "execution_count": null,
   "metadata": {
    "linenos": ""
   },
   "outputs": [],
   "source": [
    "intensities = consensus_map.get_intensity_df()\n",
    "\n",
    "meta_data = consensus_map.get_metadata_df()[[\"RT\", \"mz\", \"quality\"]]\n",
    "\n",
    "cm_df = pd.concat([meta_data, intensities], axis=1)\n",
    "cm_df.reset_index(drop=True, inplace=True)\n",
    "cm_df"
   ],
   "id": "2ad22703-7982-4743-b125-bd4a7aad3e45"
  },
  {
   "cell_type": "markdown",
   "metadata": {},
   "source": [
    "## Accurate Mass Search\n",
    "\n",
    "`in`:\n",
    "[ConsensusMap](https://pyopenms.readthedocs.io/en/latest/apidocs/_autosummary/pyopenms/pyopenms.ConsensusMap.html)\n",
    "(consensus_map)\n",
    "\n",
    "`out`: DataFrame with\n",
    "[AccurateMassSearchEngine](https://pyopenms.readthedocs.io/en/latest/apidocs/_autosummary/pyopenms/pyopenms.AccurateMassSearchEngine.html)\n",
    "results (ams_df)"
   ],
   "id": "43e7368a-761c-40e1-883d-805ef561f960"
  },
  {
   "cell_type": "code",
   "execution_count": null,
   "metadata": {
    "linenos": ""
   },
   "outputs": [],
   "source": [
    "if files.endswith(\"centroid\"):\n",
    "    files = os.path.join(files, \"..\")\n",
    "\n",
    "ams = oms.AccurateMassSearchEngine()\n",
    "\n",
    "ams_params = ams.getParameters()\n",
    "ams_params.setValue(\"ionization_mode\", \"negative\")\n",
    "ams_params.setValue(\n",
    "    \"positive_adducts\", os.path.join(files, \"PositiveAdducts.tsv\")\n",
    ")\n",
    "ams_params.setValue(\n",
    "    \"negative_adducts\", os.path.join(files, \"NegativeAdducts.tsv\")\n",
    ")\n",
    "ams_params.setValue(\"db:mapping\", [os.path.join(files, \"HMDBMappingFile.tsv\")])\n",
    "ams_params.setValue(\n",
    "    \"db:struct\", [os.path.join(files, \"HMDB2StructMapping.tsv\")]\n",
    ")\n",
    "ams.setParameters(ams_params)\n",
    "\n",
    "mztab = oms.MzTab()\n",
    "\n",
    "ams.init()\n",
    "\n",
    "ams.run(consensus_map, mztab)\n",
    "\n",
    "oms.MzTabFile().store(os.path.join(files, \"ids.tsv\"), mztab)\n",
    "\n",
    "with open(os.path.join(files, \"ids_smsection.tsv\"), \"w\") as output, open(\n",
    "    os.path.join(files, \"ids.tsv\"), \"r\"\n",
    ") as input:\n",
    "    for line in input:\n",
    "        if line.lstrip().startswith(\"SM\"):\n",
    "            output.write(line[4:])\n",
    "\n",
    "ams_df = pd.read_csv(os.path.join(files, \"ids_smsection.tsv\"), sep=\"\\t\")\n",
    "\n",
    "os.remove(os.path.join(files, \"ids.tsv\"))\n",
    "os.remove(os.path.join(files, \"ids_smsection.tsv\"))\n",
    "\n",
    "ams_df"
   ],
   "id": "07c81059-2f87-4bb4-a6bc-3ee6ec2ec84d"
  },
  {
   "cell_type": "markdown",
   "metadata": {},
   "source": [
    "## Data Filtering and Imputation\n",
    "\n",
    "`in`: unfiltered\n",
    "[ConsensusMap](https://pyopenms.readthedocs.io/en/latest/apidocs/_autosummary/pyopenms/pyopenms.ConsensusMap.html)\n",
    "DataFrame (cm_df)\n",
    "\n",
    "`out`: features below minimum quality and with too many missing values\n",
    "removed, remaining missing values imputed with KNN algorithm (cm_df)"
   ],
   "id": "68badd2d-6485-409b-a918-c1f3975af229"
  },
  {
   "cell_type": "code",
   "execution_count": null,
   "metadata": {
    "linenos": ""
   },
   "outputs": [],
   "source": [
    "allowed_missing_values = 1\n",
    "min_feature_quality = 0.8\n",
    "n_nearest_neighbours = 2\n",
    "\n",
    "# drop features that have more then the allowed number of missing values or are below minimum feature quality\n",
    "to_drop = []\n",
    "\n",
    "for i, row in cm_df.iterrows():\n",
    "    if (\n",
    "        row.isna().sum() > allowed_missing_values\n",
    "        or row[\"quality\"] < min_feature_quality\n",
    "    ):\n",
    "        to_drop.append(i)\n",
    "\n",
    "cm_df.drop(index=cm_df.index[to_drop], inplace=True)\n",
    "\n",
    "# Data imputation with KNN\n",
    "imputer = Pipeline(\n",
    "    [\n",
    "        (\"imputer\", KNNImputer(n_neighbors=2)),\n",
    "        (\n",
    "            \"pandarizer\",\n",
    "            FunctionTransformer(\n",
    "                lambda x: pd.DataFrame(x, columns=cm_df.columns)\n",
    "            ),\n",
    "        ),\n",
    "    ]\n",
    ")\n",
    "\n",
    "cm_df = imputer.fit_transform(cm_df)\n",
    "cm_df"
   ],
   "id": "d5abf923-557e-4461-a6b5-5b1aa42168c5"
  },
  {
   "cell_type": "markdown",
   "metadata": {},
   "source": [
    "Annotate :term:Features\\<features\\><span class=\"title-ref\"> with\n",
    "Identified Compounds\n",
    "\\*\\*\\*\\*\\*\\*\\*\\*\\*\\*\\*\\*\\*\\*\\*\\*\\*\\*\\*\\*\\*\\*\\*\\*\\*\\*\\*\\*\\*\\*\\*\\*\\*\\*\\*\\*\\*\\*\\*\\*\\*\\*\\*\\*\\*\\*\\*\\*\\*\\*\\*\\*\\*\\*\\*\\*\\*\\*\\*\\*\n",
    "</span><span class=\"title-ref\">in</span><span class=\"title-ref\">:\n",
    ":py:class:</span>~.ConsensusMap\\` DataFrame without identifications\n",
    "(cm_df) and\n",
    "[AccurateMassSearch](https://pyopenms.readthedocs.io/en/latest/apidocs/_autosummary/pyopenms/pyopenms.AccurateMassSearch.html)\n",
    "DataFrame (ams_df)\n",
    "\n",
    "`out`:\n",
    "[ConsensusMap](https://pyopenms.readthedocs.io/en/latest/apidocs/_autosummary/pyopenms/pyopenms.ConsensusMap.html)\n",
    "DataFrame with new identifications column (id_df)"
   ],
   "id": "ce71d4f7-91a4-4641-9f72-ad3ea7eb2fc2"
  },
  {
   "cell_type": "code",
   "execution_count": null,
   "metadata": {
    "linenos": ""
   },
   "outputs": [],
   "source": [
    "id_df = cm_df\n",
    "\n",
    "id_df[\"identifications\"] = pd.Series([\"\" for x in range(len(id_df.index))])\n",
    "\n",
    "for rt, mz, description in zip(\n",
    "    ams_df[\"retention_time\"],\n",
    "    ams_df[\"exp_mass_to_charge\"],\n",
    "    ams_df[\"description\"],\n",
    "):\n",
    "    indices = id_df.index[\n",
    "        np.isclose(id_df[\"mz\"], float(mz), atol=1e-05)\n",
    "        & np.isclose(id_df[\"RT\"], float(rt), atol=1e-05)\n",
    "    ].tolist()\n",
    "    for index in indices:\n",
    "        if description != \"null\":\n",
    "            id_df.loc[index, \"identifications\"] += str(description) + \";\"\n",
    "id_df[\"identifications\"] = [\n",
    "    item[:-1] if \";\" in item else \"\" for item in id_df[\"identifications\"]\n",
    "]\n",
    "id_df.to_csv(os.path.join(files, \"result.tsv\"), sep=\"\\t\", index=False)\n",
    "id_df"
   ],
   "id": "4dc5e408-8028-4901-bdbf-313d46a8e159"
  },
  {
   "cell_type": "markdown",
   "metadata": {},
   "source": [
    "## Visualize [Consensus Features](https://pyopenms.readthedocs.io/en/latest/user_guide/glossary.html#term-consensus-features) with Identifications"
   ],
   "id": "850667b5-1afc-4376-9e9c-200bc4cc0ee2"
  },
  {
   "cell_type": "code",
   "execution_count": null,
   "metadata": {
    "linenos": ""
   },
   "outputs": [],
   "source": [
    "fig = px.scatter(id_df, x=\"RT\", y=\"mz\", hover_name=\"identifications\")\n",
    "fig.update_layout(title=\"Consensus features with identifications (hover)\")\n",
    "fig.show()"
   ],
   "id": "275335f2-63d0-4d21-8b5c-c781b451c831"
  }
 ],
 "nbformat": 4,
 "nbformat_minor": 5,
 "metadata": {}
}
