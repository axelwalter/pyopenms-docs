{
 "cells": [
  {
   "cell_type": "markdown",
   "metadata": {},
   "source": [
    "# Memory Management\n",
    "\n",
    "On order to save memory, we can avoid loading the whole file into memory\n",
    "and use the\n",
    "[OnDiscMSExperiment](https://pyopenms.readthedocs.io/en/latest/apidocs/_autosummary/pyopenms/pyopenms.OnDiscMSExperiment.html)\n",
    "for reading data."
   ],
   "id": "2b3cee50-a1e0-4af7-9f25-f12a4f423244"
  },
  {
   "cell_type": "code",
   "execution_count": null,
   "metadata": {
    "linenos": ""
   },
   "outputs": [],
   "source": [
    "import pyopenms as oms\n",
    "\n",
    "od_exp = oms.OnDiscMSExperiment()\n",
    "od_exp.openFile(\"test.mzML\")\n",
    "\n",
    "e = oms.MSExperiment()\n",
    "for k in range(od_exp.getNrSpectra()):\n",
    "    s = od_exp.getSpectrum(k)\n",
    "    if s.getNativeID().startswith(\"scan=\"):\n",
    "        e.addSpectrum(s)\n",
    "\n",
    "oms.MzMLFile().store(\"test_filtered.mzML\", e)"
   ],
   "id": "e18048d0-74b1-4e0f-925a-55a379100345"
  },
  {
   "cell_type": "markdown",
   "metadata": {},
   "source": [
    "Note that using the approach the output data `e` is still completely in\n",
    "memory and may end up using a substantial amount of memory. We can avoid\n",
    "that by using"
   ],
   "id": "5df60340-e66d-4211-9286-af9585e12826"
  },
  {
   "cell_type": "code",
   "execution_count": null,
   "metadata": {
    "linenos": ""
   },
   "outputs": [],
   "source": [
    "od_exp = oms.OnDiscMSExperiment()\n",
    "od_exp.openFile(\"test.mzML\")\n",
    "\n",
    "consumer = oms.PlainMSDataWritingConsumer(\"test_filtered.mzML\")\n",
    "\n",
    "e = oms.MSExperiment()\n",
    "for k in range(od_exp.getNrSpectra()):\n",
    "    s = od_exp.getSpectrum(k)\n",
    "    if s.getNativeID().startswith(\"scan=\"):\n",
    "        consumer.consumeSpectrum(s)\n",
    "\n",
    "del consumer"
   ],
   "id": "4121d019-dbb2-401e-a380-605cc293ed4c"
  },
  {
   "cell_type": "markdown",
   "metadata": {},
   "source": [
    "Make sure you do not forget `del consumer` since otherwise the final\n",
    "part of the\n",
    "[mzML](https://pyopenms.readthedocs.io/en/latest/user_guide/glossary.html#term-mzML)\n",
    "may not get written to disk (and the consumer is still waiting for new\n",
    "data)."
   ],
   "id": "8745db77-78f2-4c54-b152-4532db16aaa2"
  }
 ],
 "nbformat": 4,
 "nbformat_minor": 5,
 "metadata": {}
}
