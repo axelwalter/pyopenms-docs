{
 "cells": [
  {
   "cell_type": "markdown",
   "metadata": {},
   "source": [
    "# [mzML](https://pyopenms.readthedocs.io/en/latest/user_guide/glossary.html#term-mzML) Files\n",
    "\n",
    "<div style=\"background-color: #BDE5F8; margin: 10px 0px; padding:12px;\"><p style=\"font-size: x-large\"><i class=\"far fa-sticky-note\"></i> <b>Note</b></p>\n",
    "\n",
    "This is an advanced section that dives deep into the\n",
    "[mzML](https://pyopenms.readthedocs.io/en/latest/user_guide/glossary.html#term-mzML)\n",
    "format and we will investigate the file format in greater detail. The\n",
    "intricacies of the\n",
    "[mzML](https://pyopenms.readthedocs.io/en/latest/user_guide/glossary.html#term-mzML)\n",
    "file format are all handled by pyOpenMS internally and this section is\n",
    "only intended for the interested reader\n",
    "\n",
    "</div>\n",
    "\n",
    "Specifically, we will look at\n",
    "[mzML](https://pyopenms.readthedocs.io/en/latest/user_guide/glossary.html#term-mzML)\n",
    "stores raw spectral data and how this data is encoded in the XML format.\n",
    "The\n",
    "[mzML](https://pyopenms.readthedocs.io/en/latest/user_guide/glossary.html#term-mzML)\n",
    "standard is developed by the HUPO-PSI committee and can be read on the\n",
    "[official mzML website](http://www.psidev.info/mzML). It describes how\n",
    "to store the meta data and the raw data for spectra and chromatograms.\n",
    "In short, the standard uses XML to encode all meta data and stores the\n",
    "raw data using [Base64 encoding](https://en.wikipedia.org/wiki/Base64).\n",
    "\n",
    "## Binary Encoding\n",
    "\n",
    "`To proceed <Binary encoding (mzML)>`, we will download an example file:"
   ],
   "id": "c5fd14de-2f79-461f-a608-b235e3ec7ce9"
  },
  {
   "cell_type": "code",
   "execution_count": null,
   "metadata": {
    "linenos": ""
   },
   "outputs": [],
   "source": [
    "import pyopenms as oms\n",
    "from urllib.request import urlretrieve\n",
    "\n",
    "gh = \"https://raw.githubusercontent.com/OpenMS/pyopenms-docs/master\"\n",
    "urlretrieve(gh + \"/src/data/tiny.mzML\", \"test.mzML\")"
   ],
   "id": "7b0ca711-7b27-4d4f-8139-ded5ce009785"
  },
  {
   "cell_type": "markdown",
   "metadata": {},
   "source": [
    "Let's investigate the file `test.mzML` and look at line 197:"
   ],
   "id": "c267d6fd-c990-4bd0-ad9c-2ef76ab5fac8"
  },
  {
   "cell_type": "code",
   "execution_count": null,
   "metadata": {
    "linenos": ""
   },
   "outputs": [],
   "source": [
    "print(open(\"test.mzML\").readlines()[197].strip())"
   ],
   "id": "6cb2fc59-4b4c-47ba-81ba-9f1b12f88546"
  },
  {
   "cell_type": "markdown",
   "metadata": {},
   "source": [
    "``` output\n",
    "<binary>AAAAAAAAAAAAAAAAAAAAQAAAAAAAABBAAAAAAAAAGEAAAAAAAAAgQAAAAAAAACRAAAAAAAAAKEAAAAAAAAAsQAAAAAAAADBAAAAAAAAAMkA=</binary>\n",
    "```\n",
    "\n",
    "We see that line 197 in the `test.mzML` file contains the `binary` XML\n",
    "tag that contains a long datastring that starts with `AAAAA` and ends\n",
    "with `AAMkA=`. This is the raw spectrum data encoded using\n",
    "[Base64](https://en.wikipedia.org/wiki/Base64). We can confirm this by\n",
    "looking at some more context (lines 193 to 199 of the file):"
   ],
   "id": "3d9c5513-9f71-4a58-9ca7-a362b4c4d2fa"
  },
  {
   "cell_type": "code",
   "execution_count": null,
   "metadata": {
    "linenos": ""
   },
   "outputs": [],
   "source": [
    "print(\"\".join(open(\"test.mzML\").readlines()[193:199]))"
   ],
   "id": "4966cc75-db55-4aca-b66e-3384e4e539c5"
  },
  {
   "cell_type": "markdown",
   "metadata": {},
   "source": [
    "``` output\n",
    "<binaryDataArray encodedLength=\"108\" dataProcessingRef=\"CompassXtract_x0020_processing\">\n",
    "  <cvParam cvRef=\"MS\" accession=\"MS:1000523\" name=\"64-bit float\" value=\"\"/>\n",
    "  <cvParam cvRef=\"MS\" accession=\"MS:1000576\" name=\"no compression\" value=\"\"/>\n",
    "  <cvParam cvRef=\"MS\" accession=\"MS:1000514\" name=\"m/z array\" value=\"\" unitCvRef=\"MS\" unitAccession=\"MS:1000040\" unitName=\"m/z\"/>\n",
    "  <binary>AAAAAAAAAAAAAAAAAAAAQAAAAAAAABBAAAAAAAAAGEAAAAAAAAAgQAAAAAAAACRAAAAAAAAAKEAAAAAAAAAsQAAAAAAAADBAAAAAAAAAMkA=</binary>\n",
    "</binaryDataArray>\n",
    "```\n",
    "\n",
    "We can now see that the surrounding XML tags describe how to decode the\n",
    "data, namely we see that the data is describes the m/z array and is\n",
    "uncompressed 64 bit data. We can now open the file with pyOpenMS and\n",
    "print the corresponding array which is from the second spectrum in the\n",
    "file:"
   ],
   "id": "db77d827-864d-4c23-81b6-2531579c83da"
  },
  {
   "cell_type": "code",
   "execution_count": null,
   "metadata": {
    "linenos": ""
   },
   "outputs": [],
   "source": [
    "exp = oms.MSExperiment()\n",
    "oms.MzMLFile().load(\"test.mzML\", exp)\n",
    "\n",
    "print(exp.getSpectrum(1).get_peaks()[0])"
   ],
   "id": "25d123d5-2537-45f3-a652-26d1273275fa"
  },
  {
   "cell_type": "markdown",
   "metadata": {},
   "source": [
    "``` output\n",
    "[ 0.  2.  4.  6.  8. 10. 12. 14. 16. 18.]\n",
    "```\n",
    "\n",
    "We now see that the data encoded describes 10 m/z data points that are\n",
    "equally spaced in intervals of two, starting from 0 m/z and ending at 18\n",
    "m/z (note: this is a synthetic dataset).\n",
    "\n",
    "## Base64 Encoding\n",
    "\n",
    "From the\n",
    "[mzML](https://pyopenms.readthedocs.io/en/latest/user_guide/glossary.html#term-mzML)\n",
    "standard, we know that the array is `base64 <Base64\n",
    "encoding>` encoded and we can now try to decode this data ourselves. We\n",
    "will first use pure Python functions :"
   ],
   "id": "1a53b478-59db-4f27-95a9-350078dc4072"
  },
  {
   "cell_type": "code",
   "execution_count": null,
   "metadata": {
    "linenos": ""
   },
   "outputs": [],
   "source": [
    "encoded_data = (\n",
    "    b\"AAAAAAAAAAAAAAAAAAAAQAAAAAAAABBAAAAAAAAAGEAAAAAAAAAgQ\"\n",
    "    + b\"AAAAAAAACRAAAAAAAAAKEAAAAAAAAAsQAAAAAAAADBAAAAAAAAAMkA=\"\n",
    ")\n",
    "\n",
    "import base64, struct\n",
    "\n",
    "raw_data = base64.decodebytes(encoded_data)\n",
    "out = struct.unpack(\"<%sd\" % (len(raw_data) // 8), raw_data)\n",
    "# struct.unpack('<%sf' % (len(raw_data) // 4), raw_data) # for 32 bit data\n",
    "print(out)"
   ],
   "id": "12d4ee9a-b0a7-4283-9ced-69c74403faf4"
  },
  {
   "cell_type": "markdown",
   "metadata": {},
   "source": [
    "``` output\n",
    "(0.0, 2.0, 4.0, 6.0, 8.0, 10.0, 12.0, 14.0, 16.0, 18.0)\n",
    "```\n",
    "\n",
    "The code above uses the `base64` package on line 5 to decode the encoded\n",
    "data to raw binary data. On line 6, we use the `struct` package to\n",
    "transform the raw binary data to 64-bit floating point values. Note that\n",
    "`<%sd` is used for 64 bit data and `<%sf` for 32 bit data.\n",
    "\n",
    "Alternatively, we could also use pyOpenMS to decode the same data:"
   ],
   "id": "755fd549-0965-45a7-a967-de68cb375c96"
  },
  {
   "cell_type": "code",
   "execution_count": null,
   "metadata": {
    "linenos": ""
   },
   "outputs": [],
   "source": [
    "encoded_data = (\n",
    "    b\"AAAAAAAAAAAAAAAAAAAAQAAAAAAAABBAAAAAAAAAGEAAAAAAAAAgQ\"\n",
    "    + b\"AAAAAAAACRAAAAAAAAAKEAAAAAAAAAsQAAAAAAAADBAAAAAAAAAMkA=\"\n",
    ")\n",
    "\n",
    "out = []\n",
    "oms.Base64().decode64(\n",
    "    encoded_data, oms.Base64.ByteOrder.BYTEORDER_LITTLEENDIAN, out, False\n",
    ")\n",
    "print(out)"
   ],
   "id": "89779440-8d67-47af-b70a-8daecf945ae1"
  },
  {
   "cell_type": "markdown",
   "metadata": {},
   "source": [
    "``` output\n",
    "[0.0, 2.0, 4.0, 6.0, 8.0, 10.0, 12.0, 14.0, 16.0, 18.0]\n",
    "```\n",
    "\n",
    "This allows us thus to manually decode the data. We can use pyOpenMS to\n",
    "encode and decode 32 and 64 bit values:"
   ],
   "id": "02beed54-aeb4-42b5-9db3-812bf710bf07"
  },
  {
   "cell_type": "code",
   "execution_count": null,
   "metadata": {
    "linenos": ""
   },
   "outputs": [],
   "source": [
    "encoded_data = (\n",
    "    b\"AAAAAAAAAAAAAAAAAAAAQAAAAAAAABBAAAAAAAAAGEAAAAAAAAAgQ\"\n",
    "    + b\"AAAAAAAACRAAAAAAAAAKEAAAAAAAAAsQAAAAAAAADBAAAAAAAAAMkA=\"\n",
    ")\n",
    "\n",
    "out = []\n",
    "oms.Base64().decode64(\n",
    "    encoded_data, oms.Base64.ByteOrder.BYTEORDER_LITTLEENDIAN, out, False\n",
    ")\n",
    "print(out)\n",
    "\n",
    "data = oms.String()\n",
    "oms.Base64().encode64(out, oms.Base64.ByteOrder.BYTEORDER_LITTLEENDIAN, data, False)\n",
    "print(data)\n",
    "\n",
    "oms.Base64().encode64(out, oms.Base64.ByteOrder.BYTEORDER_LITTLEENDIAN, data, True)\n",
    "print(data)\n",
    "\n",
    "data = oms.String()\n",
    "oms.Base64().encode32(out, oms.Base64.ByteOrder.BYTEORDER_LITTLEENDIAN, data, False)\n",
    "print(data)\n",
    "\n",
    "oms.Base64().encode32(out, oms.Base64.ByteOrder.BYTEORDER_LITTLEENDIAN, data, True)\n",
    "print(data)"
   ],
   "id": "18ad417d-8821-4989-ac00-da96ddc014f1"
  },
  {
   "cell_type": "markdown",
   "metadata": {},
   "source": [
    "``` output\n",
    "[0.0, 2.0, 4.0, 6.0, 8.0, 10.0, 12.0, 14.0, 16.0, 18.0]\n",
    "b'AAAAAAAAAAAAAAAAAAAAQAAAAAAAABBAAAAAAAAAGEAAAAAAAAAgQAAAAAAAACRAAAAAAAAAKEAAAAAAAAAsQAAAAAAAADBAAAAAAAAAMkA='\n",
    "b'eJxjYEABDhBKAEpLQGkFKK0CpTWgtA6UNoDSRg4AZlQDYw=='\n",
    "b'AAAAAAAAAEAAAIBAAADAQAAAAEEAACBBAABAQQAAYEEAAIBBAACQQQ=='\n",
    "b'eJxjYAADBwaGBiA+AMQMjgwMCkDsAMQJQNwAxBMcAVbKBVc='\n",
    "```\n",
    "\n",
    "Note how encoding the data with 64 bit precision results in an output\n",
    "string of length $108$ characters that is about twice as long compared\n",
    "to encoding the data with 32 bit precision which is of length $56$\n",
    "characters. However, this difference disappears when zlib compression is\n",
    "used and the resulting string is shorter still.\n",
    "\n",
    "## Numpress Encoding\n",
    "\n",
    "We can do even better, using the `numpress <numpress>` compression. The\n",
    "numpress algorithm uses lossy compression, similar to jpeg compression,\n",
    "which is capable of compressing data even further but at the cost of not\n",
    "being able to recover the original input data exactly:"
   ],
   "id": "f77dd8a2-e87e-4d1f-b459-b9a73b3faa02"
  },
  {
   "cell_type": "code",
   "execution_count": null,
   "metadata": {
    "linenos": ""
   },
   "outputs": [],
   "source": [
    "data = [0.0, 2.0, 4.0, 6.0, 8.0, 10.0, 12.0, 14.0, 16.0, 18.0 + 1e-8]\n",
    "print(data)\n",
    "r = []\n",
    "\n",
    "c = oms.NumpressConfig()\n",
    "c.np_compression = oms.MSNumpressCoder.NumpressCompression.LINEAR\n",
    "res = oms.String()\n",
    "oms.MSNumpressCoder().encodeNP(data, res, False, c)\n",
    "print(res)\n",
    "\n",
    "oms.MSNumpressCoder().decodeNP(res, r, False, c)\n",
    "print(r)\n",
    "\n",
    "c.np_compression = oms.MSNumpressCoder.NumpressCompression.PIC\n",
    "oms.MSNumpressCoder().encodeNP(data, res, False, c)\n",
    "print(res)\n",
    "\n",
    "oms.MSNumpressCoder().decodeNP(res, r, False, c)\n",
    "print(r)"
   ],
   "id": "2279c952-7802-49e2-8a0d-d52b4a1e46e8"
  },
  {
   "cell_type": "markdown",
   "metadata": {},
   "source": [
    "``` output\n",
    "[0.0, 2.0, 4.0, 6.0, 8.0, 10.0, 12.0, 14.0, 16.0, 18.00000001]\n",
    "b'Qc////+AAAAAAAAA/v//f4iIiIew'\n",
    "[0.0, 2.0, 4.0, 6.0, 8.0, 10.0, 12.0, 14.0, 16.0, 18.00000001024455]\n",
    "b'hydHZ4enx+YBYhA='\n",
    "[0.0, 2.0, 4.0, 6.0, 8.0, 10.0, 12.0, 14.0, 16.0, 18.0]\n",
    "```\n",
    "\n",
    "Note how the lossy numpress compression leads to even shorter data, with\n",
    "16 characters for PIC compression and 28 characters for linear\n",
    "compression. This makes the encoding much more efficient than lossless\n",
    "encoding that we have discussed above, however this is at the price of\n",
    "accuracy.\n",
    "\n",
    "Different numpress compression schemes result in different accuracy, the\n",
    "LINEAR compression scheme introduced an inaccuracy of 10e-10 while the\n",
    "PIC (positive integer compression) can only store positive integers and\n",
    "results in greater loss of accuracy."
   ],
   "id": "29dfffdd-7a7a-4bfa-a10e-1a9e50403a4b"
  }
 ],
 "nbformat": 4,
 "nbformat_minor": 5,
 "metadata": {}
}
