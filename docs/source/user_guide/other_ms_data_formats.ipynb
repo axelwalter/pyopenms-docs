{
 "cells": [
  {
   "cell_type": "markdown",
   "metadata": {},
   "source": [
    "# Other MS Data Formats\n",
    "\n",
    "## Identification Data (idXML, mzIdentML, pepXML, protXML)\n",
    "\n",
    "You can store and load identification data from an\n",
    "<span class=\"title-ref\">idXML</span> file as follows:"
   ],
   "id": "cf234077-fbc3-45ac-857d-e069f6840b12"
  },
  {
   "cell_type": "code",
   "execution_count": null,
   "metadata": {
    "linenos": ""
   },
   "outputs": [],
   "source": [
    "from urllib.request import urlretrieve\n",
    "import pyopenms as oms\n",
    "\n",
    "gh = gh = \"https://raw.githubusercontent.com/OpenMS/pyopenms-docs/master\"\n",
    "urlretrieve(gh + \"/src/data/IdXMLFile_whole.idXML\", \"test.idXML\")\n",
    "protein_ids = []\n",
    "peptide_ids = []\n",
    "oms.IdXMLFile().load(\"test.idXML\", protein_ids, peptide_ids)\n",
    "oms.IdXMLFile().store(\"test.out.idXML\", protein_ids, peptide_ids)"
   ],
   "id": "d68b1e06-fab5-49a4-8841-6008b14fe225"
  },
  {
   "cell_type": "markdown",
   "metadata": {},
   "source": [
    "You can store and load identification data from an\n",
    "<span class=\"title-ref\">mzIdentML</span> file as follows:"
   ],
   "id": "d9477d34-fc27-4e53-b893-59b49153d262"
  },
  {
   "cell_type": "code",
   "execution_count": null,
   "metadata": {
    "linenos": ""
   },
   "outputs": [],
   "source": [
    "from urllib.request import urlretrieve\n",
    "\n",
    "gh = gh = \"https://raw.githubusercontent.com/OpenMS/pyopenms-docs/master\"\n",
    "urlretrieve(gh + \"/src/data/MzIdentML_3runs.mzid\", \"test.mzid\")\n",
    "protein_ids = []\n",
    "peptide_ids = []\n",
    "oms.MzIdentMLFile().load(\"test.mzid\", protein_ids, peptide_ids)\n",
    "oms.MzIdentMLFile().store(\"test.out.mzid\", protein_ids, peptide_ids)"
   ],
   "id": "f83ee2c7-ee13-40f5-a711-1e379c6000d5"
  },
  {
   "cell_type": "markdown",
   "metadata": {},
   "source": [
    "You can store and load identification data from a TPP\n",
    "<span class=\"title-ref\">pepXML</span> file as follows:"
   ],
   "id": "31262a83-0259-4dc7-b874-362cfdcb89cb"
  },
  {
   "cell_type": "code",
   "execution_count": null,
   "metadata": {
    "linenos": ""
   },
   "outputs": [],
   "source": [
    "from urllib.request import urlretrieve\n",
    "\n",
    "gh = gh = \"https://raw.githubusercontent.com/OpenMS/pyopenms-docs/master\"\n",
    "urlretrieve(gh + \"/src/data/PepXMLFile_test.pepxml\", \"test.pepxml\")\n",
    "protein_ids = []\n",
    "peptide_ids = []\n",
    "oms.PepXMLFile().load(\"test.pepxml\", protein_ids, peptide_ids)\n",
    "oms.PepXMLFile().store(\"test.out.pepxml\", protein_ids, peptide_ids)"
   ],
   "id": "a5de35cf-0979-4549-bc65-da40562f6e95"
  },
  {
   "cell_type": "markdown",
   "metadata": {},
   "source": [
    "You can load (storing is not supported) identification data from a TPP\n",
    "<span class=\"title-ref\">protXML</span> file as follows:"
   ],
   "id": "0658cee0-2267-4793-96ba-725463f2e1e1"
  },
  {
   "cell_type": "code",
   "execution_count": null,
   "metadata": {
    "linenos": ""
   },
   "outputs": [],
   "source": [
    "from urllib.request import urlretrieve\n",
    "\n",
    "gh = gh = \"https://raw.githubusercontent.com/OpenMS/pyopenms-docs/master\"\n",
    "urlretrieve(gh + \"/src/data/ProtXMLFile_input_1.protXML\", \"test.protXML\")\n",
    "protein_ids = oms.ProteinIdentification()\n",
    "peptide_ids = oms.PeptideIdentification()\n",
    "oms.ProtXMLFile().load(\"test.protXML\", protein_ids, peptide_ids)\n",
    "# storing protein XML file is not yet supported"
   ],
   "id": "1fb8cd8a-ae4f-4d58-a224-636cb669c931"
  },
  {
   "cell_type": "markdown",
   "metadata": {},
   "source": [
    "Note how each data file produces two vectors of type\n",
    "[ProteinIdentification](https://pyopenms.readthedocs.io/en/latest/apidocs/_autosummary/pyopenms/pyopenms.ProteinIdentification.html)\n",
    "and\n",
    "[PeptideIdentification](https://pyopenms.readthedocs.io/en/latest/apidocs/_autosummary/pyopenms/pyopenms.PeptideIdentification.html)\n",
    "which also means that conversion between two data types is trivial: load\n",
    "data from one data file and use the storage function of the other file.\n",
    "\n",
    "## Quantiative Data (featureXML, consensusXML)\n",
    "\n",
    "OpenMS stores quantitative information in the internal `featureXML` and\n",
    "`consensusXML` attributes. The `featureXML` format is used to store\n",
    "quantitative data from a single\n",
    "[LC-MS/MS](https://pyopenms.readthedocs.io/en/latest/user_guide/glossary.html#term-LC-MS/MS)\n",
    "run while the `consensusXML` is used to store quantitative data from\n",
    "multiple\n",
    "[LC-MS/MS](https://pyopenms.readthedocs.io/en/latest/user_guide/glossary.html#term-LC-MS/MS)\n",
    "runs. These can be accessed as follows:"
   ],
   "id": "b3e8ce05-4b9c-4404-b02f-a1966082fc65"
  },
  {
   "cell_type": "code",
   "execution_count": null,
   "metadata": {
    "linenos": ""
   },
   "outputs": [],
   "source": [
    "from urllib.request import urlretrieve\n",
    "\n",
    "gh = gh = \"https://raw.githubusercontent.com/OpenMS/pyopenms-docs/master\"\n",
    "urlretrieve(\n",
    "    gh + \"/src/data/FeatureFinderCentroided_1_output.featureXML\",\n",
    "    \"test.featureXML\",\n",
    ")\n",
    "features = oms.FeatureMap()\n",
    "oms.FeatureXMLFile().load(\"test.featureXML\", features)\n",
    "oms.FeatureXMLFile().store(\"test.out.featureXML\", features)"
   ],
   "id": "929e974a-7bf2-4c74-a106-ad8e20b492d7"
  },
  {
   "cell_type": "markdown",
   "metadata": {},
   "source": [
    "and for `consensusXML`"
   ],
   "id": "2f6f6cf0-27fa-4f4b-83a6-cb8dc91bcb24"
  },
  {
   "cell_type": "code",
   "execution_count": null,
   "metadata": {
    "linenos": ""
   },
   "outputs": [],
   "source": [
    "from urllib.request import urlretrieve\n",
    "\n",
    "gh = gh = \"https://raw.githubusercontent.com/OpenMS/pyopenms-docs/master\"\n",
    "urlretrieve(\n",
    "    gh + \"/src/data/ConsensusXMLFile_1.consensusXML\", \"test.consensusXML\"\n",
    ")\n",
    "consensus_features = oms.ConsensusMap()\n",
    "oms.ConsensusXMLFile().load(\"test.consensusXML\", consensus_features)\n",
    "oms.ConsensusXMLFile().store(\"test.out.consensusXML\", consensus_features)"
   ],
   "id": "319a80a9-e3f8-4e10-8664-4f82e140248d"
  },
  {
   "cell_type": "markdown",
   "metadata": {},
   "source": [
    "## Transition data (TraML)\n",
    "\n",
    "The TraML data format allows you to store transition information for\n",
    "targeted experiments\n",
    "([SRM](https://pyopenms.readthedocs.io/en/latest/user_guide/glossary.html#term-SRM)\n",
    "/ MRM / PRM / DIA)."
   ],
   "id": "b5ebedef-b82b-4258-8f4a-07cb842beb24"
  },
  {
   "cell_type": "code",
   "execution_count": null,
   "metadata": {
    "linenos": ""
   },
   "outputs": [],
   "source": [
    "from urllib.request import urlretrieve\n",
    "\n",
    "gh = \"https://raw.githubusercontent.com/OpenMS/pyopenms-extra/master\"\n",
    "urlretrieve(gh + \"/src/data/ConvertTSVToTraML_output.TraML\", \"test.TraML\")\n",
    "targeted_exp = oms.TargetedExperiment()\n",
    "oms.TraMLFile().load(\"test.TraML\", targeted_exp)\n",
    "oms.TraMLFile().store(\"test.out.TraML\", targeted_exp)"
   ],
   "id": "e321f65c-c429-4dac-a570-0668187d0c36"
  }
 ],
 "nbformat": 4,
 "nbformat_minor": 5,
 "metadata": {}
}
