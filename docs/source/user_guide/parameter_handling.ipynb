{
 "cells": [
  {
   "cell_type": "markdown",
   "metadata": {},
   "source": [
    "# Parameter Handling\n",
    "\n",
    "Parameter handling in OpenMS and pyOpenMS is usually implemented through\n",
    "inheritance from\n",
    "[DefaultParamHandler](https://pyopenms.readthedocs.io/en/latest/apidocs/_autosummary/pyopenms/pyopenms.DefaultParamHandler.html)\n",
    "and allow access to parameters through the\n",
    "[Param](https://pyopenms.readthedocs.io/en/latest/apidocs/_autosummary/pyopenms/pyopenms.Param.html)\n",
    "object. This means, the classes implement the methods `getDefaults`,\n",
    "`getParameters`, `setParameters` which allows access to the default\n",
    "parameters, the current parameters and allows to set the parameters.\n",
    "\n",
    "The\n",
    "[Param](https://pyopenms.readthedocs.io/en/latest/apidocs/_autosummary/pyopenms/pyopenms.Param.html)\n",
    "object that is returned can be manipulated through the\n",
    "[Param.setValue](https://pyopenms.readthedocs.io/en/latest/apidocs/_autosummary/pyopenms/pyopenms.Param.setValue.html)\n",
    "and\n",
    "[Param.getValue](https://pyopenms.readthedocs.io/en/latest/apidocs/_autosummary/pyopenms/pyopenms.Param.getValue.html)\n",
    "methods (the `exists` method can be used to check for existence of a\n",
    "key). Using the\n",
    "[Param.getDescription](https://pyopenms.readthedocs.io/en/latest/apidocs/_autosummary/pyopenms/pyopenms.Param.getDescription.html)\n",
    "method, it is possible to get a help-text for each parameter value in an\n",
    "interactive session without consulting the documentation."
   ],
   "id": "a059de78-a78c-45a1-8e9f-768a1f6a9550"
  },
  {
   "cell_type": "code",
   "execution_count": null,
   "metadata": {
    "linenos": ""
   },
   "outputs": [],
   "source": [
    "import pyopenms as oms\n",
    "\n",
    "p = oms.Param()\n",
    "p.setValue(\"param1\", 4.0, \"This is value 1\")\n",
    "p.setValue(\"param2\", 5.0, \"This is value 2\")\n",
    "p.setValue(\n",
    "    \"param3\",\n",
    "    [b\"H:+:0.6\", b\"Na:+:0.2\", b\"K:+:0.2\"],\n",
    "    \"This is value 3 (StringList)\",\n",
    ")\n",
    "print(p[b\"param1\"])\n",
    "p[b\"param1\"] += 3  # add three to the parameter value\n",
    "print(p[b\"param1\"])\n",
    "print(p[b\"param3\"])"
   ],
   "id": "abd6a406-a410-4a87-826e-2c14aed22eda"
  },
  {
   "cell_type": "markdown",
   "metadata": {},
   "source": [
    "The parameters can then be accessed as\n",
    "\n",
    "``` pycon\n",
    ">>> p.asDict()\n",
    "{'param2': 4.0, 'param1': 7.0}\n",
    ">>> p.values()\n",
    "[4.0, 7.0]\n",
    ">>> p.keys()\n",
    "['param1', 'param2']\n",
    ">>> p.items()\n",
    "[('param1', 7.0), ('param2', 4.0)]\n",
    ">>> p.exists(\"param1\")\n",
    "True\n",
    "```\n",
    "\n",
    "The param object can be copy and merge in to other param object as"
   ],
   "id": "1edaf1ab-ce08-44ea-97d8-7f8f6fe43de2"
  },
  {
   "cell_type": "code",
   "execution_count": null,
   "metadata": {
    "linenos": ""
   },
   "outputs": [],
   "source": [
    "# print the key and value pairs stored in a Param object\n",
    "def printParamKeyAndValues(p):\n",
    "    if p.size():\n",
    "        for i in p.keys():\n",
    "            print(\"Key:\", i, \"Value:\", p[i])\n",
    "    else:\n",
    "        print(\"no data available\")\n",
    "\n",
    "\n",
    "new_p = oms.Param()\n",
    "if p.empty() == False:  # check p is not empty\n",
    "    new_p = p  # new deep copy of p generate with name \"new_p\"\n",
    "\n",
    "# we will add 4 more keys to the new_p\n",
    "new_p.setValue(\"param2\", 9.0, \"This is value 9\")\n",
    "new_p.setValue(\"example1\", 6.0, \"This is value 6\")\n",
    "new_p.setValue(\"example2\", 8.0, \"This is value 8\")\n",
    "new_p.setValue(\"example3\", 10.0, \"This is value 10\")\n",
    "\n",
    "# names \"example1\", \"example2\" , \"example3\" keys will added to p, but \"param2\" will update the value\n",
    "p.merge(new_p)\n",
    "print(\" print the key  and values pairs stored in a Param object p \")\n",
    "printParamKeyAndValues(p)"
   ],
   "id": "2b91f9b4-44af-4936-866e-a54535740626"
  },
  {
   "cell_type": "markdown",
   "metadata": {},
   "source": [
    "In param object the keys values can be remove by key_name or prefix as"
   ],
   "id": "db20def2-a56c-4116-8fe6-44d3d2ef77ce"
  },
  {
   "cell_type": "code",
   "execution_count": null,
   "metadata": {
    "linenos": ""
   },
   "outputs": [],
   "source": [
    "# We now call the remove method with key of the entry we want to delete (\"example3\")\n",
    "new_p.remove(\"example3\")\n",
    "print(\"Key and values pairs after removing the entry with key: example3\")\n",
    "printParamKeyAndValues(new_p)\n",
    "\n",
    "# We now want to delete all keys with prefix \"exam\"\n",
    "new_p.removeAll(\"exam\")\n",
    "print(\n",
    "    \"Key and value pairs after removing all entries with keys starting with: exam\"\n",
    ")\n",
    "printParamKeyAndValues(new_p)\n",
    "\n",
    "# we can compare Param objects for identical content\n",
    "if p == new_p:  # check p is equal to new_p\n",
    "    new_p.clear()  # Example: delete all keys from new_p\n",
    "\n",
    "print(\"Keys and values after deleting all entries.\")\n",
    "printParamKeyAndValues(new_p)  # All keys of new_p deleted"
   ],
   "id": "50800f1b-7737-4de8-ad9b-cbf26916a264"
  },
  {
   "cell_type": "markdown",
   "metadata": {},
   "source": [
    "For the algorithms that inherit\n",
    "[DefaultParamHandler](https://pyopenms.readthedocs.io/en/latest/apidocs/_autosummary/pyopenms/pyopenms.DefaultParamHandler.html),\n",
    "the users can list all parameters along with their descriptions by\n",
    "using, for instance, the following simple function."
   ],
   "id": "9956ca62-1d9c-4d1a-b1f8-f213ae7ef8b0"
  },
  {
   "cell_type": "code",
   "execution_count": null,
   "metadata": {
    "linenos": ""
   },
   "outputs": [],
   "source": [
    "# print all parameters\n",
    "def printParams(p):\n",
    "    if p.size():\n",
    "        for i in p.keys():\n",
    "            print(\n",
    "                \"Param:\", i, \"Value:\", p[i], \"Description:\", p.getDescription(i)\n",
    "            )\n",
    "    else:\n",
    "        print(\"no data available\")\n",
    "\n",
    "# print all parameters in GaussFilter class\n",
    "gf = oms.GaussFilter()\n",
    "printParams(gf.getParameters())"
   ],
   "id": "d7e45630-e269-4eef-ad35-7456cdaeecbc"
  },
  {
   "cell_type": "markdown",
   "metadata": {},
   "source": [
    "``` output\n",
    "Param: b'gaussian_width' Value: 0.2 Description: Use a gaussian filter width which has approximately the same width as your mass peaks (FWHM in m/z).\n",
    "Param: b'ppm_tolerance' Value: 10.0 Description: Gaussian width, depending on the m/z position.\n",
    "The higher the value, the wider the peak and therefore the wider the gaussian.\n",
    "Param: b'use_ppm_tolerance' Value: false Description: If true, instead of the gaussian_width value, the ppm_tolerance is used. The gaussian is calculated in each step anew, so this is much slower.\n",
    "Param: b'write_log_messages' Value: false Description: true: Warn if no signal was found by the Gauss filter algorithm.\n",
    "```"
   ],
   "id": "bfbb0fb0-4976-4158-9fa3-c19244ffe875"
  }
 ],
 "nbformat": 4,
 "nbformat_minor": 5,
 "metadata": {}
}
