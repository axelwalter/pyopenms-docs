{
 "cells": [
  {
   "cell_type": "markdown",
   "metadata": {},
   "source": [
    "# Reading Raw MS Data\n",
    "\n",
    "## [mzML](https://pyopenms.readthedocs.io/en/latest/user_guide/glossary.html#term-mzML) Files in Memory\n",
    "\n",
    "As discussed in the last section, the most straight forward way to load\n",
    "[mass\n",
    "spectrometry](https://pyopenms.readthedocs.io/en/latest/user_guide/glossary.html#term-mass\n",
    "spectrometry) data is using the\n",
    "[MzMLFile](https://pyopenms.readthedocs.io/en/latest/apidocs/_autosummary/pyopenms/pyopenms.MzMLFile.html)\n",
    "class:"
   ],
   "id": "736f0bcd-3c74-4ae5-9f62-ecf3befe0304"
  },
  {
   "cell_type": "code",
   "execution_count": null,
   "metadata": {},
   "outputs": [],
   "source": [
    "import pyopenms as oms\n",
    "from urllib.request import urlretrieve\n",
    "\n",
    "gh = \"https://raw.githubusercontent.com/OpenMS/pyopenms-docs/master\"\n",
    "urlretrieve(gh + \"/src/data/tiny.mzML\", \"test.mzML\")\n",
    "exp = oms.MSExperiment()\n",
    "oms.MzMLFile().load(\"test.mzML\", exp)"
   ],
   "id": "13720f97-b6bc-4af3-9004-faf880339150"
  },
  {
   "cell_type": "markdown",
   "metadata": {},
   "source": [
    "which will load the content of the \"test.mzML\" file into the `exp`\n",
    "variable of type\n",
    "[MSExperiment](https://pyopenms.readthedocs.io/en/latest/apidocs/_autosummary/pyopenms/pyopenms.MSExperiment.html).\n",
    "We can access the raw data and spectra through:"
   ],
   "id": "c19ff5ba-6fab-4530-9b1c-73a8f0bff196"
  },
  {
   "cell_type": "code",
   "execution_count": null,
   "metadata": {},
   "outputs": [],
   "source": [
    "spectrum_data = exp.getSpectrum(0).get_peaks()\n",
    "chromatogram_data = exp.getChromatogram(0).get_peaks()"
   ],
   "id": "0816588e-8749-403d-89c2-4bde2d778e20"
  },
  {
   "cell_type": "markdown",
   "metadata": {},
   "source": [
    "Which will allow us to compute on spectra and chromatogram data. We can\n",
    "manipulate the spectra in the file for example as follows:"
   ],
   "id": "6a6b3557-4bcb-41ed-a84f-43f1322c9a38"
  },
  {
   "cell_type": "code",
   "execution_count": null,
   "metadata": {},
   "outputs": [],
   "source": [
    "spec = []\n",
    "for s in exp.getSpectra():\n",
    "    if s.getMSLevel() != 1:\n",
    "        spec.append(s)\n",
    "\n",
    "exp.setSpectra(spec)"
   ],
   "id": "fd8578eb-f1c7-4bbf-b492-21a8a8c2cf80"
  },
  {
   "cell_type": "markdown",
   "metadata": {},
   "source": [
    "Which will only keep\n",
    "[MS2](https://pyopenms.readthedocs.io/en/latest/user_guide/glossary.html#term-MS2)\n",
    "spectra in the\n",
    "[MSExperiment](https://pyopenms.readthedocs.io/en/latest/apidocs/_autosummary/pyopenms/pyopenms.MSExperiment.html).\n",
    "We can then store the modified data structure on disk:"
   ],
   "id": "90776603-5b32-4fcd-a044-c1b357995887"
  },
  {
   "cell_type": "code",
   "execution_count": null,
   "metadata": {},
   "outputs": [],
   "source": [
    "oms.MzMLFile().store(\"filtered.mzML\", exp)"
   ],
   "id": "df71ca5c-2fea-4939-a616-ddbd75bf08de"
  },
  {
   "cell_type": "markdown",
   "metadata": {},
   "source": [
    "Putting this together, a small filtering program would look like this:"
   ],
   "id": "6fe5033f-50b5-4758-ba41-a9f42d900924"
  },
  {
   "cell_type": "code",
   "execution_count": null,
   "metadata": {},
   "outputs": [],
   "source": [
    "\"\"\"\n",
    "Script to read mzML data and filter out all MS1 spectra\n",
    "\"\"\"\n",
    "exp = oms.MSExperiment()\n",
    "oms.MzMLFile().load(\"test.mzML\", exp)\n",
    "\n",
    "spec = []\n",
    "for s in exp.getSpectra():\n",
    "    if s.getMSLevel() != 1:\n",
    "        spec.append(s)\n",
    "\n",
    "exp.setSpectra(spec)\n",
    "\n",
    "oms.MzMLFile().store(\"filtered.mzML\", exp)"
   ],
   "id": "0fe3b283-4c60-4452-97b6-bd552b4083c6"
  },
  {
   "cell_type": "markdown",
   "metadata": {},
   "source": [
    "## Indexed [mzML](https://pyopenms.readthedocs.io/en/latest/user_guide/glossary.html#term-mzML) Files\n",
    "\n",
    "Since pyOpenMS 2.4, you can open, read and inspect files that use the\n",
    "indexedMzML standard. This allows users to read MS data without loading\n",
    "all data into memory:"
   ],
   "id": "d25fbdb0-1191-435d-9fbb-856a8e96118c"
  },
  {
   "cell_type": "code",
   "execution_count": null,
   "metadata": {},
   "outputs": [],
   "source": [
    "od_exp = oms.OnDiscMSExperiment()\n",
    "od_exp.openFile(\"test.mzML\")\n",
    "meta_data = od_exp.getMetaData()\n",
    "meta_data.getNrChromatograms()\n",
    "od_exp.getNrChromatograms()\n",
    "\n",
    "# data is not present in meta_data experiment\n",
    "sum(meta_data.getChromatogram(0).get_peaks()[1])  # no data!\n",
    "sum(od_exp.getChromatogram(0).get_peaks()[1])  # data is here!\n",
    "\n",
    "# meta data is present and identical in both data structures:\n",
    "meta_data.getChromatogram(0).getNativeID()  # fast\n",
    "od_exp.getChromatogram(0).getNativeID()  # slow"
   ],
   "id": "04f47a37-4345-4410-a3b6-deff88fb940d"
  },
  {
   "cell_type": "markdown",
   "metadata": {},
   "source": [
    "Note that the\n",
    "[OnDiscMSExperiment](https://pyopenms.readthedocs.io/en/latest/apidocs/_autosummary/pyopenms/pyopenms.OnDiscMSExperiment.html)\n",
    "allows users to access meta data through the\n",
    "[OnDiscMSExperiment.getMetaData](https://pyopenms.readthedocs.io/en/latest/apidocs/_autosummary/pyopenms/pyopenms.OnDiscMSExperiment.getMetaData.html)\n",
    "function, which allows easy selection and filtering on meta data\n",
    "attributes (such as MS level, precursor m/z, retention time etc.) in\n",
    "order to select spectra and chromatograms for analysis. Only once\n",
    "selection on the meta data has been performed, will actual data be\n",
    "loaded into memory using the\n",
    "[OnDiscMSExperiment.getChromatogram](https://pyopenms.readthedocs.io/en/latest/apidocs/_autosummary/pyopenms/pyopenms.OnDiscMSExperiment.getChromatogram.html)\n",
    "and\n",
    "[OnDiscMSExperiment.getSpectrum](https://pyopenms.readthedocs.io/en/latest/apidocs/_autosummary/pyopenms/pyopenms.OnDiscMSExperiment.getSpectrum.html)\n",
    "functions.\n",
    "\n",
    "This approach is memory efficient in cases where computation should only\n",
    "occur on part of the data or the whole data may not fit into memory.\n",
    "\n",
    "## [mzML](https://pyopenms.readthedocs.io/en/latest/user_guide/glossary.html#term-mzML) Files as Streams\n",
    "\n",
    "In some instances it is impossible or inconvenient to load all data from\n",
    "an mzML file directly into memory. OpenMS offers streaming-based access\n",
    "to mass spectrometric data which uses a callback object that receives\n",
    "spectra and chromatograms as they are read from the disk. A simple\n",
    "implementation could look like"
   ],
   "id": "9d7b8d62-ea53-4216-9b4b-00dd66f00e46"
  },
  {
   "cell_type": "code",
   "execution_count": null,
   "metadata": {},
   "outputs": [],
   "source": [
    "class MSCallback:\n",
    "    def setExperimentalSettings(self, s):\n",
    "        pass\n",
    "\n",
    "    def setExpectedSize(self, a, b):\n",
    "        pass\n",
    "\n",
    "    def consumeChromatogram(self, c):\n",
    "        print(\"Read a chromatogram\")\n",
    "\n",
    "    def consumeSpectrum(self, s):\n",
    "        print(\"Read a spectrum\")"
   ],
   "id": "b14105dd-c591-4868-9955-53a8e9d15687"
  },
  {
   "cell_type": "markdown",
   "metadata": {},
   "source": [
    "which can the be used as follows:\n",
    "\n",
    "``` output\n",
    "filename = b\"test.mzML\"\n",
    "consumer = MSCallback()\n",
    "oms.MzMLFile().transform(filename, consumer)\n",
    "Read a spectrum\n",
    "Read a spectrum\n",
    "Read a spectrum\n",
    "Read a spectrum\n",
    "Read a chromatogram\n",
    "Read a chromatogram\n",
    "```\n",
    "\n",
    "which provides an intuition on how the callback object works: whenever a\n",
    "spectrum or chromatogram is read from disk, the function\n",
    "`consumeSpectrum` or `consumeChromatogram` is called and a specific\n",
    "action is performed. We can use this to implement a simple filtering\n",
    "function for mass spectra:\n",
    "\n",
    "``` output\n",
    "class FilteringConsumer:\n",
    "    \"\"\"\n",
    "    Consumer that forwards all calls the internal consumer (after\n",
    "    filtering)\n",
    "    \"\"\"\n",
    "\n",
    "    def __init__(self, consumer, filter_string):\n",
    "        self._internal_consumer = consumer\n",
    "        self.filter_string = filter_string\n",
    "\n",
    "    def setExperimentalSettings(self, s):\n",
    "        self._internal_consumer.setExperimentalSettings(s)\n",
    "\n",
    "    def setExpectedSize(self, a, b):\n",
    "        self._internal_consumer.setExpectedSize(a, b)\n",
    "\n",
    "    def consumeChromatogram(self, c):\n",
    "        if c.getNativeID().find(self.filter_string) != -1:\n",
    "            self._internal_consumer.consumeChromatogram(c)\n",
    "\n",
    "    def consumeSpectrum(self, s):\n",
    "        if s.getNativeID().find(self.filter_string) != -1:\n",
    "            self._internal_consumer.consumeSpectrum(s)\n",
    "\n",
    "###################################\n",
    "filter_string = \"DECOY\"\n",
    "inputfile = \"in.mzML\"\n",
    "outputfile = \"out.mzML\"\n",
    "###################################\n",
    "\n",
    "consumer = oms.PlainMSDataWritingConsumer(outputfile)\n",
    "consumer = FilteringConsumer(consumer, filter_string)\n",
    "\n",
    "oms.MzMLFile().transform(inputfile, consumer)\n",
    "```\n",
    "\n",
    "where the spectra and chromatograms are filtered by their native ids. It\n",
    "is similarly trivial to implement filtering by other attributes. Note\n",
    "how the data are written to disk using the\n",
    "[PlainMSDataWritingConsumer](https://pyopenms.readthedocs.io/en/latest/apidocs/_autosummary/pyopenms/pyopenms.PlainMSDataWritingConsumer.html)\n",
    "which is one of multiple available consumer classes -- this specific\n",
    "class will simply take the spectrum `s` or chromatogram `c` and write it\n",
    "to disk (the location of the output file is given by the `outfile`\n",
    "variable).\n",
    "\n",
    "Note that this approach is memory efficient in cases where computation\n",
    "should only occur on part of the data or the whole data may not fit into\n",
    "memory.\n",
    "\n",
    "## Cached [mzML](https://pyopenms.readthedocs.io/en/latest/user_guide/glossary.html#term-mzML) Files\n",
    "\n",
    "In addition, since pyOpenMS 2.4 the user can efficiently cache\n",
    "[mzML](https://pyopenms.readthedocs.io/en/latest/user_guide/glossary.html#term-mzML)\n",
    "files to disk which provides very fast access with minimal overhead in\n",
    "memory. Basically the data directly mapped into memory when requested.\n",
    "You can use this feature as follows:"
   ],
   "id": "35626fae-97c7-4aca-8a71-6763e261a2f8"
  },
  {
   "cell_type": "code",
   "execution_count": null,
   "metadata": {},
   "outputs": [],
   "source": [
    "# First load data and cache to disk\n",
    "exp = oms.MSExperiment()\n",
    "oms.MzMLFile().load(\"test.mzML\", exp)\n",
    "oms.CachedmzML().store(\"myCache.mzML\", exp)\n",
    "\n",
    "# Now load data\n",
    "cfile = oms.CachedmzML()\n",
    "oms.CachedmzML().load(\"myCache.mzML\", cfile)\n",
    "\n",
    "meta_data = cfile.getMetaData()\n",
    "cfile.getNrChromatograms()\n",
    "cfile.getNrSpectra()\n",
    "\n",
    "# data is not present in meta_data experiment\n",
    "sum(meta_data.getChromatogram(0).get_peaks()[1])  # no data!\n",
    "sum(cfile.getChromatogram(0).get_peaks()[1])  # data is here!\n",
    "\n",
    "# meta data is present and identical in both data structures:\n",
    "meta_data.getChromatogram(0).getNativeID()  # fast\n",
    "cfile.getChromatogram(0).getNativeID()  # slow"
   ],
   "id": "7cf728e8-50ed-4048-aa29-60e0371ceb44"
  },
  {
   "cell_type": "markdown",
   "metadata": {},
   "source": [
    "Note that the\n",
    "[CachedmzML](https://pyopenms.readthedocs.io/en/latest/apidocs/_autosummary/pyopenms/pyopenms.CachedmzML.html)\n",
    "allows users to access meta data through the\n",
    "[CachedmzML.getMetaData](https://pyopenms.readthedocs.io/en/latest/apidocs/_autosummary/pyopenms/pyopenms.CachedmzML.getMetaData.html)\n",
    "function, which allows easy selection and filtering on meta data\n",
    "attributes (such as MS level, precursor m/z, retention time etc.) in\n",
    "order to select spectra and chromatograms for analysis. Only once\n",
    "selection on the meta data has been performed, will actual data be\n",
    "loaded into memory using the\n",
    "[CachedmzML.getChromatogram](https://pyopenms.readthedocs.io/en/latest/apidocs/_autosummary/pyopenms/pyopenms.CachedmzML.getChromatogram.html)\n",
    "and\n",
    "[CachedmzML.getSpectrum](https://pyopenms.readthedocs.io/en/latest/apidocs/_autosummary/pyopenms/pyopenms.CachedmzML.getSpectrum.html)\n",
    "functions.\n",
    "\n",
    "Note that in the example above all data is loaded into memory first and\n",
    "then cached to disk. This is not very efficient and we can use the\n",
    "[MSDataCachedConsumer](https://pyopenms.readthedocs.io/en/latest/apidocs/_autosummary/pyopenms/pyopenms.MSDataCachedConsumer.html)\n",
    "to directly cache to disk (without loading any data into memory):"
   ],
   "id": "fda2b4de-4b52-4307-a411-2e6750b42ec2"
  },
  {
   "cell_type": "code",
   "execution_count": null,
   "metadata": {},
   "outputs": [],
   "source": [
    "# First cache to disk\n",
    "# Note: writing meta data to myCache2.mzML is required\n",
    "cacher = oms.MSDataCachedConsumer(\"myCache2.mzML.cached\")\n",
    "exp = oms.MSExperiment()\n",
    "oms.MzMLFile().transform(b\"test.mzML\", cacher, exp)\n",
    "oms.CachedMzMLHandler().writeMetadata(exp, \"myCache2.mzML\")\n",
    "del cacher\n",
    "\n",
    "# Now load data\n",
    "cfile = oms.CachedmzML()\n",
    "oms.CachedmzML().load(\"myCache2.mzML\", cfile)\n",
    "\n",
    "meta_data = cfile.getMetaData()\n",
    "# data is not present in meta_data experiment\n",
    "sum(meta_data.getChromatogram(0).get_peaks()[1])  # no data!\n",
    "sum(cfile.getChromatogram(0).get_peaks()[1])  # data is here!"
   ],
   "id": "ff135175-d5f3-4ea3-b557-63a82728ca37"
  },
  {
   "cell_type": "markdown",
   "metadata": {},
   "source": [
    "This approach is now memory efficient in cases where computation should\n",
    "only occur on part of the data or the whole data may not fit into\n",
    "memory."
   ],
   "id": "d9c9c2f2-b718-4cf9-aa9a-ff92ba475b2f"
  }
 ],
 "nbformat": 4,
 "nbformat_minor": 5,
 "metadata": {}
}
